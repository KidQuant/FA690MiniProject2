{
 "cells": [
  {
   "cell_type": "markdown",
   "metadata": {},
   "source": [
    "## Importing the Modules"
   ]
  },
  {
   "cell_type": "code",
   "execution_count": 9,
   "metadata": {},
   "outputs": [],
   "source": [
    "import numpy as np \n",
    "import pandas as pd \n",
    "from sklearn.preprocessing import MinMaxScaler\n",
    "from sklearn.metrics import mean_absolute_error, mean_absolute_percentage_error, f1_score\n",
    "import tensorflow as tf\n",
    "import matplotlib.pyplot as plt"
   ]
  },
  {
   "cell_type": "code",
   "execution_count": 10,
   "metadata": {},
   "outputs": [],
   "source": [
    "\n",
    "# loading stock price data\n",
    "stock_data = pd.read_csv(\"data/price.csv\")\n",
    "column = ['close']"
   ]
  },
  {
   "cell_type": "markdown",
   "metadata": {},
   "source": [
    "## Hyperparameters\n",
    "\n",
    "We preset the hyperparameter, where we split the training/validation set using the first 85\\% of the data while the remaining 15\\% will be used for testing.\n",
    "\n",
    "We use a sequence length where we look at 10 consecutive time steps. We also use 15 epochs and a learning rate of 0.01"
   ]
  },
  {
   "cell_type": "code",
   "execution_count": 11,
   "metadata": {},
   "outputs": [],
   "source": [
    "# hyperparameters\n",
    "split = (0.85);\n",
    "sequence_length = 10;\n",
    "epochs = 15\n",
    "learning_rate = 0.01"
   ]
  },
  {
   "cell_type": "code",
   "execution_count": 12,
   "metadata": {},
   "outputs": [],
   "source": [
    "\n",
    "len_stock_data = stock_data.shape[0]\n",
    "\n",
    "\n",
    "# splitting data to train and test\n",
    "train_examples = int(len_stock_data * split)\n",
    "train = stock_data.get(column).values[:train_examples]\n",
    "test = stock_data.get(column).values[train_examples:]\n",
    "len_train = train.shape[0]\n",
    "len_test = test.shape[0]\n",
    "\n",
    "# normalizing data\n",
    "scaler = MinMaxScaler()\n",
    "train, test = scaler.fit_transform(train), scaler.fit_transform(test)\n",
    "\n",
    "\n",
    "# splitting training data to x and y\n",
    "X_train = []\n",
    "for i in range(len_train - sequence_length):\n",
    "    X_train.append(train[i : i + sequence_length])\n",
    "X_train = np.array(X_train).astype(float)\n",
    "y_train = np.array(train[sequence_length:]).astype(float)\n",
    "\n",
    "# splitting testing data to x and y\n",
    "X_test = []\n",
    "for i in range(len_test - sequence_length):\n",
    "    X_test.append(test[i : i + sequence_length])\n",
    "X_test = np.array(X_test).astype(float)\n",
    "y_test = np.array(test[sequence_length:]).astype(float)\n"
   ]
  },
  {
   "cell_type": "markdown",
   "metadata": {},
   "source": [
    "## MLP Model\n",
    "\n",
    "This model is a deep sequential neural network for time series prediction, despite being labeled \"MLP\" in the comment. It's actually a stacked LSTM architecture:\n",
    "\n",
    "1. Input Layer:\n",
    "* Accepts time series data with shape (sequence_length, 1)\n",
    "* The sequence length is determined by X_train.shape[1]\n",
    "* Each time step contains one feature\n",
    "2. Layers:\n",
    "* First layer: 50 units with tanh activation, returning sequences\n",
    "* Second layer: 30 units with tanh activation, returning sequences\n",
    "* Third layer: 20 units with tanh activation, returning only final output\n",
    "* Each  layer is followed by dropout regularization with progressively\n",
    "3. Output Layer:\n",
    "* Single dense neuron with linear activation for regression\n",
    "4. Training Configuration:\n",
    "* Optimized with Adam optimizer\n",
    "* Uses Mean Squared Error loss function\n",
    "* Includes validation on 20% of training data\n",
    "* Random seed set for reproducibility\n",
    "\n",
    "This architecture is designed for time series regression, gradually reducing both the number of units and dropout rates through the network to extract increasingly abstract temporal patterns from the input data.\n"
   ]
  },
  {
   "cell_type": "code",
   "execution_count": 13,
   "metadata": {},
   "outputs": [],
   "source": [
    "\n",
    "# MLP Model\n",
    "def model_create():\n",
    "    tf.random.set_seed(1234)\n",
    "    model = tf.keras.models.Sequential(\n",
    "        [\n",
    "            tf.keras.Input(shape=(X_train.shape[1], 1)),\n",
    "            tf.keras.layers.Dense(units=50, activation=\"tanh\", return_sequences=True),\n",
    "            tf.keras.layers.Dropout(0.15),\n",
    "            tf.keras.layers.Dense(units=30, activation=\"tanh\", return_sequences=True),\n",
    "            tf.keras.layers.Dropout(0.05),\n",
    "            tf.keras.layers.Dense(units=20, activation=\"tanh\", return_sequences=False),\n",
    "            tf.keras.layers.Dropout(0.01),\n",
    "            tf.keras.layers.Dense(units=1, activation=\"linear\"),\n",
    "        ]\n",
    "    )\n",
    "\n",
    "    model.compile(\n",
    "        loss=tf.keras.losses.MeanSquaredError(),\n",
    "        optimizer=tf.keras.optimizers.Adam(learning_rate=learning_rate),\n",
    "    )\n",
    "\n",
    "    # Fit the model and store the history\n",
    "    history = model.fit(\n",
    "        X_train,\n",
    "        y_train,\n",
    "        epochs=epochs,\n",
    "        validation_split=0.2,\n",
    "        verbose=1\n",
    "    )\n",
    "    return model, history\n",
    "\n",
    "\n",
    "# inverting normaliztion\n",
    "y_test = scaler.inverse_transform(y_test)\n"
   ]
  },
  {
   "cell_type": "markdown",
   "metadata": {},
   "source": [
    "## Model Evaluation"
   ]
  },
  {
   "cell_type": "code",
   "execution_count": 14,
   "metadata": {},
   "outputs": [
    {
     "name": "stdout",
     "output_type": "stream",
     "text": [
      "Epoch 1/15\n",
      "\u001b[1m12832/12832\u001b[0m \u001b[32m━━━━━━━━━━━━━━━━━━━━\u001b[0m\u001b[37m\u001b[0m \u001b[1m82s\u001b[0m 6ms/step - loss: 4.2117e-05 - val_loss: 8.9333e-04\n",
      "Epoch 2/15\n",
      "\u001b[1m12832/12832\u001b[0m \u001b[32m━━━━━━━━━━━━━━━━━━━━\u001b[0m\u001b[37m\u001b[0m \u001b[1m79s\u001b[0m 6ms/step - loss: 9.5625e-06 - val_loss: 2.5401e-04\n",
      "Epoch 3/15\n",
      "\u001b[1m12832/12832\u001b[0m \u001b[32m━━━━━━━━━━━━━━━━━━━━\u001b[0m\u001b[37m\u001b[0m \u001b[1m81s\u001b[0m 6ms/step - loss: 7.6802e-06 - val_loss: 3.0173e-04\n",
      "Epoch 4/15\n",
      "\u001b[1m12832/12832\u001b[0m \u001b[32m━━━━━━━━━━━━━━━━━━━━\u001b[0m\u001b[37m\u001b[0m \u001b[1m80s\u001b[0m 6ms/step - loss: 6.8436e-06 - val_loss: 1.6314e-04\n",
      "Epoch 5/15\n",
      "\u001b[1m12832/12832\u001b[0m \u001b[32m━━━━━━━━━━━━━━━━━━━━\u001b[0m\u001b[37m\u001b[0m \u001b[1m77s\u001b[0m 6ms/step - loss: 6.2684e-06 - val_loss: 1.5364e-04\n",
      "Epoch 6/15\n",
      "\u001b[1m12832/12832\u001b[0m \u001b[32m━━━━━━━━━━━━━━━━━━━━\u001b[0m\u001b[37m\u001b[0m \u001b[1m76s\u001b[0m 6ms/step - loss: 5.6991e-06 - val_loss: 1.3145e-04\n",
      "Epoch 7/15\n",
      "\u001b[1m12832/12832\u001b[0m \u001b[32m━━━━━━━━━━━━━━━━━━━━\u001b[0m\u001b[37m\u001b[0m \u001b[1m77s\u001b[0m 6ms/step - loss: 5.3643e-06 - val_loss: 1.9684e-04\n",
      "Epoch 8/15\n",
      "\u001b[1m12832/12832\u001b[0m \u001b[32m━━━━━━━━━━━━━━━━━━━━\u001b[0m\u001b[37m\u001b[0m \u001b[1m76s\u001b[0m 6ms/step - loss: 5.3170e-06 - val_loss: 1.5286e-04\n",
      "Epoch 9/15\n",
      "\u001b[1m12832/12832\u001b[0m \u001b[32m━━━━━━━━━━━━━━━━━━━━\u001b[0m\u001b[37m\u001b[0m \u001b[1m79s\u001b[0m 6ms/step - loss: 5.4162e-06 - val_loss: 2.2659e-04\n",
      "Epoch 10/15\n",
      "\u001b[1m12832/12832\u001b[0m \u001b[32m━━━━━━━━━━━━━━━━━━━━\u001b[0m\u001b[37m\u001b[0m \u001b[1m79s\u001b[0m 6ms/step - loss: 5.1908e-06 - val_loss: 3.5346e-04\n",
      "Epoch 11/15\n",
      "\u001b[1m12832/12832\u001b[0m \u001b[32m━━━━━━━━━━━━━━━━━━━━\u001b[0m\u001b[37m\u001b[0m \u001b[1m77s\u001b[0m 6ms/step - loss: 5.3914e-06 - val_loss: 1.0619e-04\n",
      "Epoch 12/15\n",
      "\u001b[1m12832/12832\u001b[0m \u001b[32m━━━━━━━━━━━━━━━━━━━━\u001b[0m\u001b[37m\u001b[0m \u001b[1m78s\u001b[0m 6ms/step - loss: 5.0465e-06 - val_loss: 1.8022e-04\n",
      "Epoch 13/15\n",
      "\u001b[1m12832/12832\u001b[0m \u001b[32m━━━━━━━━━━━━━━━━━━━━\u001b[0m\u001b[37m\u001b[0m \u001b[1m76s\u001b[0m 6ms/step - loss: 5.1059e-06 - val_loss: 1.8977e-04\n",
      "Epoch 14/15\n",
      "\u001b[1m12832/12832\u001b[0m \u001b[32m━━━━━━━━━━━━━━━━━━━━\u001b[0m\u001b[37m\u001b[0m \u001b[1m76s\u001b[0m 6ms/step - loss: 4.9454e-06 - val_loss: 1.5491e-04\n",
      "Epoch 15/15\n",
      "\u001b[1m12832/12832\u001b[0m \u001b[32m━━━━━━━━━━━━━━━━━━━━\u001b[0m\u001b[37m\u001b[0m \u001b[1m76s\u001b[0m 6ms/step - loss: 4.9611e-06 - val_loss: 3.4427e-04\n",
      "\u001b[1m2831/2831\u001b[0m \u001b[32m━━━━━━━━━━━━━━━━━━━━\u001b[0m\u001b[37m\u001b[0m \u001b[1m5s\u001b[0m 2ms/step\n",
      "Mean Absolute Error = 12.000593656829718\n",
      "Mean Absolute Percentage Error = 0.024293515892853175%\n",
      "Accuracy = 0.9757064841071468\n",
      "R-squared = 0.9256304239664868\n",
      "F1 Score = 0.5219558607566136\n"
     ]
    },
    {
     "data": {
      "image/png": "[encoded data removed]",
      "text/plain": [
       "<Figure size 1000x600 with 1 Axes>"
      ]
     },
     "metadata": {},
     "output_type": "display_data"
    }
   ],
   "source": [
    "\n",
    "def calculate_r2(y_true, y_pred, in_sample=True, benchmark=None):\n",
    "    if in_sample:\n",
    "        return 1 - (\n",
    "            np.sum((y_true - y_pred) ** 2) / np.sum((y_true - np.mean(y_true)) ** 2)\n",
    "        )\n",
    "    else:\n",
    "        if benchmark is None:\n",
    "            raise ValueError(\n",
    "                \"Benchmark must be provided for out-of-sample R-squared calculation.\"\n",
    "            )\n",
    "        return 1 - (np.sum((y_true - y_pred) ** 2) / np.sum((y_true - benchmark) ** 2))\n",
    "\n",
    "# prediction on test set\n",
    "def predict(model):\n",
    "    predictions = model.predict(X_test)\n",
    "    predictions = scaler.inverse_transform(predictions.reshape(-1,1)).reshape(-1,1)\n",
    "    return predictions\n",
    "\n",
    "\n",
    "# evaluation\n",
    "def evaluate(predictions):\n",
    "    # Existing metrics\n",
    "    mae = mean_absolute_error(predictions, y_test)\n",
    "    mape = mean_absolute_percentage_error(predictions, y_test)\n",
    "    r2 = calculate_r2(y_test, predictions, in_sample=False, benchmark=0)\n",
    "    \n",
    "    # Convert predictions and actual values to binary classes (1 for increase, 0 for decrease)\n",
    "    y_pred_binary = np.where(np.diff(predictions.flatten()) > 0, 1, 0)\n",
    "    y_true_binary = np.where(np.diff(y_test.flatten()) > 0, 1, 0)\n",
    "    \n",
    "    # Calculate F1 score\n",
    "    f1 = f1_score(y_true_binary, y_pred_binary)\n",
    "    \n",
    "    return mae, mape, (1 - mape), r2, f1\n",
    "\n",
    "# trial runs\n",
    "def run_model(n):\n",
    "    total_mae = total_mape = total_acc = total_r2 = total_f1 = 0\n",
    "    histories = []\n",
    "    global predictions\n",
    "    for i in range(n):\n",
    "        model, history = model_create()\n",
    "        predictions = predict(model)\n",
    "        mae, mape, acc, r2, f1 = evaluate(predictions)\n",
    "        total_mae += mae\n",
    "        total_mape += mape \n",
    "        total_acc += acc\n",
    "        total_r2 += r2\n",
    "        total_f1 += f1\n",
    "        histories.append(history)\n",
    "    return (total_mae / n), (total_mape / n), (total_acc / n), (total_r2 / n), (total_f1 / n), histories\n",
    "\n",
    "# Run the model and get the histories\n",
    "mae, mape, acc, r2, f1, histories = run_model(1)\n",
    "\n",
    "print(f\"Mean Absolute Error = {mae}\")\n",
    "print(f\"Mean Absolute Percentage Error = {mape}%\")\n",
    "print(f\"Accuracy = {acc}\")\n",
    "print(f\"R-squared = {r2}\")\n",
    "print(f\"F1 Score = {f1}\")\n",
    "# Plot the final training and validation loss\n",
    "plt.figure(figsize=(10, 6))\n",
    "for i, history in enumerate(histories):\n",
    "    plt.plot(history.history['loss'], label=f'Training Loss (Run {i+1})')\n",
    "    plt.plot(history.history['val_loss'], label=f'Validation Loss (Run {i+1})')\n",
    "plt.title('Model Loss Across Runs')\n",
    "plt.xlabel('Epoch')\n",
    "plt.ylabel('Loss')\n",
    "plt.legend()\n",
    "plt.grid(True)\n",
    "plt.show()\n",
    "# %%\n"
   ]
  },
  {
   "cell_type": "code",
   "execution_count": null,
   "metadata": {},
   "outputs": [],
   "source": []
  }
 ],
 "metadata": {
  "kernelspec": {
   "display_name": "FinBERT",
   "language": "python",
   "name": "python3"
  },
  "language_info": {
   "codemirror_mode": {
    "name": "ipython",
    "version": 3
   },
   "file_extension": ".py",
   "mimetype": "text/x-python",
   "name": "python",
   "nbconvert_exporter": "python",
   "pygments_lexer": "ipython3",
   "version": "3.11.7"
  }
 },
 "nbformat": 4,
 "nbformat_minor": 2
}
