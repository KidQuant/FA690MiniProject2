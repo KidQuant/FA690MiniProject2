{
 "cells": [
  {
   "cell_type": "markdown",
   "metadata": {},
   "source": [
    "### Importing the Libraries"
   ]
  },
  {
   "cell_type": "code",
   "execution_count": 1,
   "metadata": {},
   "outputs": [
    {
     "name": "stderr",
     "output_type": "stream",
     "text": [
      "c:\\Users\\drebi\\miniconda3\\envs\\FinBERT\\Lib\\site-packages\\tqdm\\auto.py:21: TqdmWarning: IProgress not found. Please update jupyter and ipywidgets. See https://ipywidgets.readthedocs.io/en/stable/user_install.html\n",
      "  from .autonotebook import tqdm as notebook_tqdm\n"
     ]
    },
    {
     "name": "stdout",
     "output_type": "stream",
     "text": [
      "WARNING:tensorflow:From c:\\Users\\drebi\\miniconda3\\envs\\FinBERT\\Lib\\site-packages\\tf_keras\\src\\losses.py:2976: The name tf.losses.sparse_softmax_cross_entropy is deprecated. Please use tf.compat.v1.losses.sparse_softmax_cross_entropy instead.\n",
      "\n"
     ]
    }
   ],
   "source": [
    "import numpy as np\n",
    "import pandas as pd\n",
    "import torch\n",
    "from torch import nn\n",
    "import nltk\n",
    "import tensorflow as tf\n",
    "from nltk.sentiment.vader import SentimentIntensityAnalyzer\n",
    "from transformers import (\n",
    "    AutoTokenizer,\n",
    "    AutoModelForSequenceClassification,\n",
    "    pipeline,\n",
    "    BertTokenizer,\n",
    "    BertForSequenceClassification,\n",
    "    BertModel,\n",
    "    Trainer,\n",
    "    TrainingArguments,\n",
    "    TrainerCallback,\n",
    "    EarlyStoppingCallback,\n",
    ")\n",
    "import matplotlib.pyplot as plt\n",
    "from sklearn.preprocessing import MinMaxScaler\n",
    "from sklearn.metrics import (\n",
    "    mean_absolute_percentage_error,\n",
    "    mean_absolute_error,\n",
    "    accuracy_score,\n",
    "    mean_squared_error,\n",
    "    r2_score,\n",
    "    f1_score,\n",
    ")\n",
    "\n",
    "import seaborn as sns\n",
    "from scipy import stats\n",
    "\n",
    "from datasets import Dataset\n",
    "from collections import defaultdict"
   ]
  },
  {
   "cell_type": "markdown",
   "metadata": {},
   "source": [
    "# Transforming the data"
   ]
  },
  {
   "cell_type": "code",
   "execution_count": 2,
   "metadata": {},
   "outputs": [
    {
     "name": "stdout",
     "output_type": "stream",
     "text": [
      "Using device: cuda\n"
     ]
    }
   ],
   "source": [
    "\n",
    "# Check if CUDA is available\n",
    "device = torch.device(\"cuda\" if torch.cuda.is_available() else \"cpu\")\n",
    "print(f\"Using device: {device}\")\n",
    "\n",
    "# Load pre-merged dataset of news and price data\n",
    "price_df = pd.read_csv('data/price.csv')\n",
    "news_df = pd.read_csv('data/news.csv')\n",
    "\n",
    "price_df['daily_return'] = price_df.groupby('ticker')['close'].transform(lambda x: x.pct_change())\n",
    "price_df = price_df.dropna()\n",
    "\n",
    "# Convert dates to datetime\n",
    "news_df['publication_datetime'] = pd.to_datetime(news_df['publication_datetime'])\n",
    "price_df['Date'] = pd.to_datetime(price_df['Date'])\n",
    "\n",
    "price_df = price_df.sort_values(['ticker', \"Date\"])\n",
    "price_df['daily_return'] = price_df.groupby('ticker')['close'].pct_change()\n",
    "\n",
    "news_df = news_df.rename(columns={'tickers': 'ticker'})\n",
    "\n",
    "merged_df = pd.merge_asof(\n",
    "    news_df.sort_values('publication_datetime'),\n",
    "    price_df.sort_values('Date'),\n",
    "    by='ticker',\n",
    "    left_on='publication_datetime',\n",
    "    right_on='Date',\n",
    "    direction='backward'\n",
    ")\n",
    "merged_df = merged_df.dropna(subset=['daily_return'])\n",
    "\n",
    "# Keep the date column for splitting\n",
    "merged_df = merged_df[[\"title\", \"body\", \"daily_return\", \"Date\"]].dropna()\n",
    "merged_df[\"text\"] = merged_df[\"title\"] + \" \" + merged_df[\"body\"]\n",
    "merged_df[\"label\"] = (merged_df[\"daily_return\"] > 0).astype(int)\n",
    "merged_df[\"label\"] = merged_df[\"label\"].astype(float)\n"
   ]
  },
  {
   "cell_type": "markdown",
   "metadata": {},
   "source": [
    "# Time Series Split\n",
    "\n",
    "We use a time series split for the training, validation and testing method. We use months prior to 2019 for training, the year 2019 for validation and the year 2020 for testing"
   ]
  },
  {
   "cell_type": "code",
   "execution_count": 3,
   "metadata": {},
   "outputs": [],
   "source": [
    "\n",
    "# Split data based on dates\n",
    "train_mask = merged_df['Date'] < '2019-01-01'\n",
    "val_mask = (merged_df['Date'] >= '2019-01-01') & (merged_df['Date'] < '2020-01-01')\n",
    "test_mask = merged_df['Date'] >= '2020-01-01'\n"
   ]
  },
  {
   "cell_type": "markdown",
   "metadata": {},
   "source": [
    "## Data Cleaning"
   ]
  },
  {
   "cell_type": "code",
   "execution_count": 4,
   "metadata": {},
   "outputs": [
    {
     "name": "stdout",
     "output_type": "stream",
     "text": [
      "Training set size: 10292\n",
      "Validation set size: 5338\n",
      "Test set size: 4892\n"
     ]
    }
   ],
   "source": [
    "\n",
    "# Create clean dataframes with only the columns we need\n",
    "train_df = pd.DataFrame({\n",
    "    'text': merged_df.loc[train_mask, 'text'].values,\n",
    "    'label': merged_df.loc[train_mask, 'label'].values\n",
    "})\n",
    "val_df = pd.DataFrame({\n",
    "    'text': merged_df.loc[val_mask, 'text'].values,\n",
    "    'label': merged_df.loc[val_mask, 'label'].values\n",
    "})\n",
    "test_df = pd.DataFrame({\n",
    "    'text': merged_df.loc[test_mask, 'text'].values,\n",
    "    'label': merged_df.loc[test_mask, 'label'].values\n",
    "})\n",
    "\n",
    "# Ensure all values are numeric\n",
    "train_df['label'] = train_df['label'].astype(float)\n",
    "val_df['label'] = val_df['label'].astype(float)\n",
    "test_df['label'] = test_df['label'].astype(float)\n",
    "\n",
    "print(f\"Training set size: {len(train_df)}\")\n",
    "print(f\"Validation set size: {len(val_df)}\")\n",
    "print(f\"Test set size: {len(test_df)}\")\n",
    "\n",
    "# Create datasets\n",
    "train_dataset = Dataset.from_pandas(train_df)\n",
    "val_dataset = Dataset.from_pandas(val_df)\n",
    "test_dataset = Dataset.from_pandas(test_df)\n"
   ]
  },
  {
   "cell_type": "code",
   "execution_count": 5,
   "metadata": {},
   "outputs": [
    {
     "name": "stderr",
     "output_type": "stream",
     "text": [
      "Map: 100%|██████████| 10292/10292 [01:19<00:00, 130.16 examples/s]\n",
      "Map: 100%|██████████| 5338/5338 [00:43<00:00, 123.35 examples/s]\n",
      "Map: 100%|██████████| 4892/4892 [00:41<00:00, 116.60 examples/s]\n"
     ]
    }
   ],
   "source": [
    "\n",
    "tokenizer = BertTokenizer.from_pretrained('bert-base-uncased')\n",
    "\n",
    "def tokenize_function(examples):\n",
    "    return tokenizer(examples[\"text\"], padding=\"max_length\", truncation=True, max_length=512)\n",
    "\n",
    "train_dataset = train_dataset.map(tokenize_function, batched=True)\n",
    "val_dataset = val_dataset.map(tokenize_function, batched=True)\n",
    "test_dataset = test_dataset.map(tokenize_function, batched=True)\n",
    "\n",
    "train_dataset.set_format(type=\"torch\", columns=[\"input_ids\", \"attention_mask\", \"label\"])\n",
    "val_dataset.set_format(type=\"torch\", columns=[\"input_ids\", \"attention_mask\", \"label\"])\n",
    "test_dataset.set_format(type=\"torch\", columns=[\"input_ids\", \"attention_mask\", \"label\"])"
   ]
  },
  {
   "cell_type": "markdown",
   "metadata": {},
   "source": [
    "## Performance Parameters"
   ]
  },
  {
   "cell_type": "markdown",
   "metadata": {},
   "source": [
    "\n",
    "This code implements a metrics tracking system for a machine learning model, specifically for binary classification. The `compute_metrics` function processes model predictions by handling various input formats (tuples or prediction objects), converting PyTorch tensors to NumPy arrays when needed, and calculating classification metrics including accuracy and mean squared error. It transforms logits into probabilities using the sigmoid function and converts them to binary predictions using a 0.5 threshold. \n",
    "\n",
    "The code also defines a custom `MetricsCallback` class that inherits from `TrainerCallback` (likely from the Hugging Face Transformers library) to track training and validation metrics throughout the training process. This callback stores loss values in dedicated dictionaries and prints progress updates at each step, providing real-time monitoring of model performance during training."
   ]
  },
  {
   "cell_type": "code",
   "execution_count": 6,
   "metadata": {},
   "outputs": [],
   "source": [
    "\n",
    "def compute_metrics(pred):\n",
    "    # Handle the prediction format correctly\n",
    "    if isinstance(pred, tuple):\n",
    "        if len(pred) == 2:\n",
    "            logits, labels = pred\n",
    "        else:\n",
    "            logits = pred[0]\n",
    "            labels = pred[1]\n",
    "    else:\n",
    "        logits = pred.predictions\n",
    "        labels = pred.label_ids\n",
    "    \n",
    "    # Ensure we have the right shape\n",
    "    if len(logits.shape) > 1:\n",
    "        logits = logits.squeeze()\n",
    "    \n",
    "    if isinstance(logits, torch.Tensor):\n",
    "        logits = logits.detach().cpu().numpy()\n",
    "    if isinstance(labels, torch.Tensor):\n",
    "        labels = labels.detach().cpu().numpy()\n",
    "    \n",
    "    # Ensure we're working with float arrays\n",
    "    logits = logits.astype(np.float32)\n",
    "    labels = labels.astype(np.float32)\n",
    "    \n",
    "    probs = 1 / (1 + np.exp(-logits))\n",
    "    preds = (probs > 0.5).astype(int)\n",
    "    \n",
    "    # Calculate additional metrics\n",
    "    mse = mean_squared_error(labels, probs)\n",
    "    \n",
    "    metrics = {\n",
    "        \"accuracy\": accuracy_score(labels, preds),\n",
    "        \"mse\": mse\n",
    "    }\n",
    "    return metrics\n",
    "\n",
    "# Initialize dictionaries to store metrics\n",
    "train_metrics = defaultdict(list)\n",
    "val_metrics = defaultdict(list)\n",
    "\n",
    "# Enhanced metrics callback\n",
    "class MetricsCallback(TrainerCallback):\n",
    "    def on_log(self, args, state, control, logs=None, **kwargs):\n",
    "        if logs is not None:\n",
    "            # Check for training loss\n",
    "            if \"loss\" in logs:\n",
    "                train_metrics[\"loss\"].append(logs[\"loss\"])\n",
    "            # Check for eval loss\n",
    "            if \"eval_loss\" in logs:\n",
    "                val_metrics[\"loss\"].append(logs[\"eval_loss\"])\n",
    "            # Print current metrics\n",
    "            print(f\"Step {state.global_step}: \", end=\"\")\n",
    "            if \"loss\" in logs:\n",
    "                print(f\"Training Loss: {logs['loss']:.4f}\", end=\" \")\n",
    "            if \"eval_loss\" in logs:\n",
    "                print(f\"Eval Loss: {logs['eval_loss']:.4f}\", end=\" \")\n",
    "            print()"
   ]
  },
  {
   "cell_type": "markdown",
   "metadata": {},
   "source": [
    "## Fine-Tuned BERT Model"
   ]
  },
  {
   "cell_type": "markdown",
   "metadata": {},
   "source": [
    "The following is a BERT-based model with a custom fully connected classifier head. Here's the architecture outline:\n",
    "\n",
    "1. Base Model: \n",
    "* Pre-trained BERT (\"bert-base-uncased\")\n",
    "* Initially frozen (parameters not updated during training)\n",
    "* Produces 768-dimensional embeddings\n",
    "2. Classifier Head (Fully Connected Network):\n",
    "* A multi-layer neural network that progressively reduces dimensions\n",
    "* First layer: 768 → 512 neurons with BatchNorm, ReLU activation, and 30% dropout\n",
    "* Second layer: 512 → 256 neurons with BatchNorm, ReLU activation, and 30% dropout\n",
    "* Third layer: 256 → 128 neurons with BatchNorm, ReLU activation, and 20% dropout\n",
    "* Output layer: 128 → 1 neuron for binary prediction\n",
    "3. Forward Pass Processing:\n",
    "* Text inputs (input_ids, attention_mask) are passed through BERT\n",
    "* BERT's pooled output captures the overall sequence representation\n",
    "* The classifier transforms this representation into a single logit\n",
    "* For training, Binary Cross-Entropy with Logits Loss is applied\n",
    "\n",
    "The model uses residual connections and operates on tokenized text inputs (input_ids and attention_mask). It's designed for binary classification tasks, likely sentiment analysis or similar text classification problems in the financial domain."
   ]
  },
  {
   "cell_type": "code",
   "execution_count": 7,
   "metadata": {},
   "outputs": [],
   "source": [
    "\n",
    "class FinBERTWithClassifier(nn.Module):\n",
    "    def __init__(self):\n",
    "        super(FinBERTWithClassifier, self).__init__()\n",
    "        self.bert = BertModel.from_pretrained(\"bert-base-uncased\")\n",
    "        \n",
    "        # Freeze BERT layers initially\n",
    "        for param in self.bert.parameters():\n",
    "            param.requires_grad = False\n",
    "            \n",
    "        # Enhanced classifier network with batch normalization and more layers\n",
    "        self.classifier = nn.Sequential(\n",
    "            nn.Linear(768, 512),\n",
    "            nn.BatchNorm1d(512),\n",
    "            nn.ReLU(),\n",
    "            nn.Dropout(0.3),\n",
    "            nn.Linear(512, 256),\n",
    "            nn.BatchNorm1d(256),\n",
    "            nn.ReLU(),\n",
    "            nn.Dropout(0.3),\n",
    "            nn.Linear(256, 128),\n",
    "            nn.BatchNorm1d(128),\n",
    "            nn.ReLU(),\n",
    "            nn.Dropout(0.2),\n",
    "            nn.Linear(128, 1)\n",
    "        )\n",
    "        self.to(device)\n",
    "\n",
    "    def forward(self, input_ids, attention_mask, labels=None):\n",
    "        input_ids = input_ids.to(device)\n",
    "        attention_mask = attention_mask.to(device)\n",
    "        if labels is not None:\n",
    "            labels = labels.to(device)\n",
    "            \n",
    "        outputs = self.bert(input_ids=input_ids, attention_mask=attention_mask)\n",
    "        pooled_output = outputs.pooler_output\n",
    "        \n",
    "        # Add residual connection\n",
    "        logits = self.classifier(pooled_output).squeeze(-1)\n",
    "\n",
    "        if labels is not None:\n",
    "            loss_fn = nn.BCEWithLogitsLoss()\n",
    "            loss = loss_fn(logits, labels.float())\n",
    "            return {\"loss\": loss, \"logits\": logits}\n",
    "        return {\"logits\": logits}\n"
   ]
  },
  {
   "cell_type": "markdown",
   "metadata": {},
   "source": [
    "## Training"
   ]
  },
  {
   "cell_type": "markdown",
   "metadata": {},
   "source": [
    "This code is configuring training parameters for a machine learning model using the Hugging Face Transformers library. It creates a TrainingArguments object that defines key training settings including: \n",
    "* training for 15 epochs\n",
    "* using a learning rate of 2e-5 with cosine scheduling and 10% warmup\n",
    "* batch sizes of 16 samples per device\n",
    "* weight decay of 0.01 for regularization\n",
    "* gradient accumulation over 4 steps to handle larger effective batch sizes,\n",
    "* mixed precision training with fp16\n",
    "* and evaluation/saving at each epoch."
   ]
  },
  {
   "cell_type": "code",
   "execution_count": 8,
   "metadata": {},
   "outputs": [
    {
     "name": "stderr",
     "output_type": "stream",
     "text": [
      "c:\\Users\\drebi\\miniconda3\\envs\\FinBERT\\Lib\\site-packages\\transformers\\training_args.py:1611: FutureWarning: `evaluation_strategy` is deprecated and will be removed in version 4.46 of 🤗 Transformers. Use `eval_strategy` instead\n",
      "  warnings.warn(\n"
     ]
    }
   ],
   "source": [
    "\n",
    "training_args = TrainingArguments(\n",
    "    output_dir=\"./results\",\n",
    "    evaluation_strategy=\"epoch\",\n",
    "    save_strategy=\"epoch\",\n",
    "    learning_rate=2e-5,\n",
    "    per_device_train_batch_size=16,\n",
    "    per_device_eval_batch_size=16,\n",
    "    num_train_epochs=15,  # This will run for all 15 epochs\n",
    "    weight_decay=0.01,\n",
    "    warmup_ratio=0.1,\n",
    "    gradient_accumulation_steps=4,\n",
    "    fp16=True,\n",
    "    load_best_model_at_end=True,\n",
    "    metric_for_best_model=\"eval_loss\",\n",
    "    lr_scheduler_type=\"cosine\",\n",
    "    logging_strategy=\"epoch\",\n",
    "    logging_dir=\"./logs\",\n",
    "    report_to=[\"tensorboard\"]\n",
    ")"
   ]
  },
  {
   "cell_type": "markdown",
   "metadata": {},
   "source": [
    "## Training and Validation Loss"
   ]
  },
  {
   "cell_type": "code",
   "execution_count": 9,
   "metadata": {},
   "outputs": [
    {
     "data": {
      "text/html": [
       "\n",
       "    <div>\n",
       "      \n",
       "      <progress value='2415' max='2415' style='width:300px; height:20px; vertical-align: middle;'></progress>\n",
       "      [2415/2415 05:38, Epoch 15/15]\n",
       "    </div>\n",
       "    <table border=\"1\" class=\"dataframe\">\n",
       "  <thead>\n",
       " <tr style=\"text-align: left;\">\n",
       "      <th>Epoch</th>\n",
       "      <th>Training Loss</th>\n",
       "      <th>Validation Loss</th>\n",
       "      <th>Accuracy</th>\n",
       "      <th>Mse</th>\n",
       "    </tr>\n",
       "  </thead>\n",
       "  <tbody>\n",
       "    <tr>\n",
       "      <td>1</td>\n",
       "      <td>0.741900</td>\n",
       "      <td>0.701520</td>\n",
       "      <td>0.533908</td>\n",
       "      <td>0.253748</td>\n",
       "    </tr>\n",
       "    <tr>\n",
       "      <td>2</td>\n",
       "      <td>0.727400</td>\n",
       "      <td>0.697166</td>\n",
       "      <td>0.535407</td>\n",
       "      <td>0.251744</td>\n",
       "    </tr>\n",
       "    <tr>\n",
       "      <td>3</td>\n",
       "      <td>0.719400</td>\n",
       "      <td>0.694293</td>\n",
       "      <td>0.536531</td>\n",
       "      <td>0.250494</td>\n",
       "    </tr>\n",
       "    <tr>\n",
       "      <td>4</td>\n",
       "      <td>0.714700</td>\n",
       "      <td>0.693856</td>\n",
       "      <td>0.529974</td>\n",
       "      <td>0.250277</td>\n",
       "    </tr>\n",
       "    <tr>\n",
       "      <td>5</td>\n",
       "      <td>0.709400</td>\n",
       "      <td>0.693020</td>\n",
       "      <td>0.528475</td>\n",
       "      <td>0.249906</td>\n",
       "    </tr>\n",
       "    <tr>\n",
       "      <td>6</td>\n",
       "      <td>0.705800</td>\n",
       "      <td>0.693683</td>\n",
       "      <td>0.520045</td>\n",
       "      <td>0.250233</td>\n",
       "    </tr>\n",
       "    <tr>\n",
       "      <td>7</td>\n",
       "      <td>0.706800</td>\n",
       "      <td>0.694283</td>\n",
       "      <td>0.522480</td>\n",
       "      <td>0.250512</td>\n",
       "    </tr>\n",
       "    <tr>\n",
       "      <td>8</td>\n",
       "      <td>0.705200</td>\n",
       "      <td>0.694661</td>\n",
       "      <td>0.520420</td>\n",
       "      <td>0.250683</td>\n",
       "    </tr>\n",
       "    <tr>\n",
       "      <td>9</td>\n",
       "      <td>0.704400</td>\n",
       "      <td>0.693521</td>\n",
       "      <td>0.522855</td>\n",
       "      <td>0.250149</td>\n",
       "    </tr>\n",
       "    <tr>\n",
       "      <td>10</td>\n",
       "      <td>0.703200</td>\n",
       "      <td>0.693940</td>\n",
       "      <td>0.522855</td>\n",
       "      <td>0.250354</td>\n",
       "    </tr>\n",
       "    <tr>\n",
       "      <td>11</td>\n",
       "      <td>0.700000</td>\n",
       "      <td>0.693240</td>\n",
       "      <td>0.526414</td>\n",
       "      <td>0.250021</td>\n",
       "    </tr>\n",
       "    <tr>\n",
       "      <td>12</td>\n",
       "      <td>0.702900</td>\n",
       "      <td>0.693902</td>\n",
       "      <td>0.518921</td>\n",
       "      <td>0.250328</td>\n",
       "    </tr>\n",
       "    <tr>\n",
       "      <td>13</td>\n",
       "      <td>0.698900</td>\n",
       "      <td>0.693660</td>\n",
       "      <td>0.520420</td>\n",
       "      <td>0.250227</td>\n",
       "    </tr>\n",
       "    <tr>\n",
       "      <td>14</td>\n",
       "      <td>0.702900</td>\n",
       "      <td>0.694268</td>\n",
       "      <td>0.519670</td>\n",
       "      <td>0.250509</td>\n",
       "    </tr>\n",
       "    <tr>\n",
       "      <td>15</td>\n",
       "      <td>0.699600</td>\n",
       "      <td>0.693982</td>\n",
       "      <td>0.522480</td>\n",
       "      <td>0.250395</td>\n",
       "    </tr>\n",
       "  </tbody>\n",
       "</table><p>"
      ],
      "text/plain": [
       "<IPython.core.display.HTML object>"
      ]
     },
     "metadata": {},
     "output_type": "display_data"
    },
    {
     "name": "stdout",
     "output_type": "stream",
     "text": [
      "Step 161: Training Loss: 0.7419 \n",
      "Step 161: Eval Loss: 0.7015 \n",
      "Step 322: Training Loss: 0.7274 \n",
      "Step 322: Eval Loss: 0.6972 \n",
      "Step 483: Training Loss: 0.7194 \n",
      "Step 483: Eval Loss: 0.6943 \n",
      "Step 644: Training Loss: 0.7147 \n",
      "Step 644: Eval Loss: 0.6939 \n",
      "Step 805: Training Loss: 0.7094 \n",
      "Step 805: Eval Loss: 0.6930 \n",
      "Step 966: Training Loss: 0.7058 \n",
      "Step 966: Eval Loss: 0.6937 \n",
      "Step 1127: Training Loss: 0.7068 \n",
      "Step 1127: Eval Loss: 0.6943 \n",
      "Step 1288: Training Loss: 0.7052 \n",
      "Step 1288: Eval Loss: 0.6947 \n",
      "Step 1449: Training Loss: 0.7044 \n",
      "Step 1449: Eval Loss: 0.6935 \n",
      "Step 1610: Training Loss: 0.7032 \n",
      "Step 1610: Eval Loss: 0.6939 \n",
      "Step 1771: Training Loss: 0.7000 \n",
      "Step 1771: Eval Loss: 0.6932 \n",
      "Step 1932: Training Loss: 0.7029 \n",
      "Step 1932: Eval Loss: 0.6939 \n",
      "Step 2093: Training Loss: 0.6989 \n",
      "Step 2093: Eval Loss: 0.6937 \n",
      "Step 2254: Training Loss: 0.7029 \n",
      "Step 2254: Eval Loss: 0.6943 \n",
      "Step 2415: Training Loss: 0.6996 \n",
      "Step 2415: Eval Loss: 0.6940 \n",
      "Step 2415: \n"
     ]
    },
    {
     "data": {
      "image/png": "[encoded data removed]",
      "text/plain": [
       "<Figure size 1000x600 with 1 Axes>"
      ]
     },
     "metadata": {},
     "output_type": "display_data"
    }
   ],
   "source": [
    "\n",
    "model = FinBERTWithClassifier()\n",
    "# Initialize the trainer with callbacks\n",
    "trainer = Trainer(\n",
    "    model=model,\n",
    "    args=training_args,\n",
    "    train_dataset=train_dataset,\n",
    "    eval_dataset=val_dataset,\n",
    "    compute_metrics=compute_metrics,\n",
    "    callbacks=[MetricsCallback()]  # Only include the metrics callback\n",
    ")\n",
    "trainer.train()\n",
    "\n",
    "# Plot training and validation loss curves\n",
    "\n",
    "plt.figure(figsize=(10, 6))\n",
    "if train_metrics[\"loss\"]:  # Check if we have training loss data\n",
    "    plt.plot(train_metrics[\"loss\"], label=\"Training Loss\")\n",
    "if val_metrics[\"loss\"]:  # Check if we have validation loss data\n",
    "    plt.plot(val_metrics[\"loss\"], label=\"Validation Loss\")\n",
    "plt.xlabel(\"Step\")\n",
    "plt.ylabel(\"Loss\")\n",
    "plt.title(\"Experiment A\")\n",
    "plt.legend()\n",
    "plt.grid(True)\n",
    "plt.savefig(\"loss_curves.png\")\n",
    "plt.show()\n"
   ]
  },
  {
   "cell_type": "markdown",
   "metadata": {},
   "source": [
    "## Testing"
   ]
  },
  {
   "cell_type": "markdown",
   "metadata": {},
   "source": [
    "Finally, the model evaluates a trained sentiment analysis model on a test dataset and generates predictions. First, it runs the model on the test set and prints evaluation metrics. Then it gets raw prediction logits, converts them to probabilities using the sigmoid function, and thresholds them at 0.5 to classify text as either \"Positive\" or \"Negative\". \n",
    "\n",
    "It also calculates confidence scores for each prediction. The code then creates a comprehensive DataFrame containing the original text, true labels (both numeric and text format), predicted sentiment labels, and confidence scores. \n",
    "\n",
    "Finally, it exports all these predictions to a CSV file named 'test_predictions.csv' for further analysis or reporting."
   ]
  },
  {
   "cell_type": "code",
   "execution_count": 10,
   "metadata": {},
   "outputs": [
    {
     "data": {
      "text/html": [],
      "text/plain": [
       "<IPython.core.display.HTML object>"
      ]
     },
     "metadata": {},
     "output_type": "display_data"
    },
    {
     "name": "stdout",
     "output_type": "stream",
     "text": [
      "Step 2415: Eval Loss: 0.6983 \n",
      "\n",
      "Test Set Results:\n",
      "{'eval_loss': 0.6982686519622803, 'eval_accuracy': 0.5022485690923958, 'eval_mse': 0.25251492857933044, 'eval_runtime': 6.0651, 'eval_samples_per_second': 806.577, 'eval_steps_per_second': 50.452, 'epoch': 15.0}\n"
     ]
    }
   ],
   "source": [
    "# After training, evaluate on test set\n",
    "test_results = trainer.evaluate(test_dataset)\n",
    "print(\"\\nTest Set Results:\")\n",
    "print(test_results)\n",
    "\n",
    "# Get predictions for the test set\n",
    "test_preds = trainer.predict(test_dataset)\n",
    "test_probs = 1 / (1 + np.exp(-test_preds.predictions))\n",
    "test_labels = test_preds.label_ids\n",
    "\n",
    "# Create sentiment predictions and scores\n",
    "test_predictions = np.where(test_probs > 0.5, 'Positive', 'Negative')\n",
    "sentiment_scores = np.where(test_probs > 0.5, test_probs, 1 - test_probs)\n",
    "\n",
    "# Create output dataframe\n",
    "predictions_df = pd.DataFrame({\n",
    "    'text': test_df['text'].values,\n",
    "    'true_label': test_labels,\n",
    "    'true_sentiment': np.where(test_labels > 0.5, 'Positive', 'Negative'),\n",
    "    'predicted_sentiment': test_predictions,\n",
    "    'sentiment_score': sentiment_scores\n",
    "})\n",
    "\n",
    "# Save predictions to CSV\n",
    "predictions_df.to_csv('predictions/test_predictions_A.csv', index=False)"
   ]
  },
  {
   "cell_type": "code",
   "execution_count": 11,
   "metadata": {},
   "outputs": [
    {
     "name": "stdout",
     "output_type": "stream",
     "text": [
      "\n",
      "Sample Sentiment Predictions:\n",
      "\n",
      "Text: A Penny Saved Is a Latte Earned The other day I opened my trading account and discovered an unexpected Christmas present -- a $30 dividend payment for shares of Hilton Worldwide Holdings I purchased i...\n",
      "True Sentiment: Positive\n",
      "Predicted Sentiment: Positive\n",
      "Sentiment Score: 0.63\n",
      "---\n",
      "\n",
      "Text: Business News: PG&E Wins a Round in Court Battle A committee of bondholders including Elliott Management Corp. and Pacific Investment Management Co. argued they were owed accrued interest at the origi...\n",
      "True Sentiment: Negative\n",
      "Predicted Sentiment: Positive\n",
      "Sentiment Score: 0.56\n",
      "---\n",
      "\n",
      "Text: Google AI for Breast Cancer Shows Promise The model is the latest step in Google's push into health care. The Alphabet Inc. company has developed similar systems to detect lung cancer, eye disease and...\n",
      "True Sentiment: Positive\n",
      "Predicted Sentiment: Positive\n",
      "Sentiment Score: 0.57\n",
      "---\n",
      "\n",
      "Text: Business News: Tesla Looks to China for Growth --- As U.S. tax breaks fade, auto maker focuses on local production in growing market China, the world's largest new-car market, is becoming important in...\n",
      "True Sentiment: Positive\n",
      "Predicted Sentiment: Positive\n",
      "Sentiment Score: 0.57\n",
      "---\n",
      "\n",
      "Text: Boeing's Commitment To Automation Grows Now, such changes seek to address the fact that pilots might not react to problems -- including those tied to automation -- as quickly or proficiently as design...\n",
      "True Sentiment: Positive\n",
      "Predicted Sentiment: Positive\n",
      "Sentiment Score: 0.60\n",
      "---\n",
      "\n",
      "Test Set Metrics:\n",
      "{'accuracy': 0.5022485690923958, 'mse': 0.25251492857933044, 'r2': -0.01023256778717041, 'f1': 0.6242863755593273}\n"
     ]
    }
   ],
   "source": [
    "\n",
    "# Print sample predictions\n",
    "print(\"\\nSample Sentiment Predictions:\")\n",
    "for i in range(min(5, len(predictions_df))):\n",
    "    print(f\"\\nText: {predictions_df['text'].iloc[i][:200]}...\")\n",
    "    print(f\"True Sentiment: {predictions_df['true_sentiment'].iloc[i]}\")\n",
    "    print(f\"Predicted Sentiment: {predictions_df['predicted_sentiment'].iloc[i]}\")\n",
    "    print(f\"Sentiment Score: {predictions_df['sentiment_score'].iloc[i]:.2f}\")\n",
    "    print(\"---\")\n",
    "\n",
    "test_metrics = {\n",
    "    \"accuracy\": accuracy_score(test_labels, (test_probs > 0.5).astype(int)),\n",
    "    \"mse\": mean_squared_error(test_labels, test_probs),\n",
    "    \"r2\": r2_score(test_labels, test_probs),\n",
    "    \"f1\": f1_score(test_labels, (test_probs > 0.5).astype(int))\n",
    "}\n",
    "print(\"\\nTest Set Metrics:\")\n",
    "print(test_metrics)\n"
   ]
  },
  {
   "cell_type": "code",
   "execution_count": 17,
   "metadata": {},
   "outputs": [
    {
     "data": {
      "text/plain": [
       "array([0.6336371 , 0.5558271 , 0.57110894, ..., 0.56517875, 0.5874699 ,\n",
       "       0.55793566], dtype=float32)"
      ]
     },
     "execution_count": 17,
     "metadata": {},
     "output_type": "execute_result"
    }
   ],
   "source": [
    "# Save sentiment scores as pickle file\n",
    "import pickle\n",
    "\n",
    "with open('scores/sentiment_scores_A.pkl', 'wb') as f:\n",
    "    pickle.dump(sentiment_scores, f)\n",
    "\n",
    "print(\"Sentiment scores saved to sentiment_scores_A.pkl\")\n"
   ]
  },
  {
   "cell_type": "code",
   "execution_count": null,
   "metadata": {},
   "outputs": [],
   "source": []
  }
 ],
 "metadata": {
  "kernelspec": {
   "display_name": "FinBERT",
   "language": "python",
   "name": "python3"
  },
  "language_info": {
   "codemirror_mode": {
    "name": "ipython",
    "version": 3
   },
   "file_extension": ".py",
   "mimetype": "text/x-python",
   "name": "python",
   "nbconvert_exporter": "python",
   "pygments_lexer": "ipython3",
   "version": "3.11.7"
  }
 },
 "nbformat": 4,
 "nbformat_minor": 2
}
